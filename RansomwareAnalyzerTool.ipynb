{
 "cells": [
  {
   "cell_type": "code",
   "execution_count": null,
   "metadata": {},
   "outputs": [],
   "source": [
    "import os\n",
    "import time\n",
    "import hashlib\n",
    "import smtplib\n",
    "from email.mime.text import MIMEText\n",
    "\n",
    "# Directory to monitor for changes\n",
    "directory_to_monitor = \"/path/to/your/directory\"\n",
    "\n",
    "# Email settings\n",
    "smtp_server = \"your_smtp_server\"\n",
    "smtp_port = 587\n",
    "sender_email = \"sender_email@example.com\"\n",
    "sender_password = \"sender_password\"\n",
    "receiver_email = \"receiver_email@example.com\"\n",
    "\n",
    "# Hash table to store file hashes\n",
    "file_hashes = {}\n",
    "\n",
    "def send_email(subject, body):\n",
    "    message = MIMEText(body)\n",
    "    message['Subject'] = subject\n",
    "    message['From'] = sender_email\n",
    "    message['To'] = receiver_email\n",
    "\n",
    "    with smtplib.SMTP(smtp_server, smtp_port) as server:\n",
    "        server.starttls()\n",
    "        server.login(sender_email, sender_password)\n",
    "        server.sendmail(sender_email, receiver_email, message.as_string())\n",
    "\n",
    "def calculate_file_hash(file_path):\n",
    "    hasher = hashlib.sha256()\n",
    "    with open(file_path, 'rb') as file:\n",
    "        buffer = file.read(65536)\n",
    "        while len(buffer) > 0:\n",
    "            hasher.update(buffer)\n",
    "            buffer = file.read(65536)\n",
    "    return hasher.hexdigest()\n",
    "\n",
    "def monitor_directory():\n",
    "    print(\"Monitoring directory for changes...\")\n",
    "    while True:\n",
    "        for root, dirs, files in os.walk(directory_to_monitor):\n",
    "            for file in files:\n",
    "                file_path = os.path.join(root, file)\n",
    "                file_hash = calculate_file_hash(file_path)\n",
    "\n",
    "                if file_path in file_hashes:\n",
    "                    if file_hashes[file_path] != file_hash:\n",
    "                        print(f\"[WARNING] File change detected: {file_path}\")\n",
    "                        send_email(\"Suspicious file change detected\", f\"File change detected: {file_path}\")\n",
    "                else:\n",
    "                    print(f\"[INFO] New file detected: {file_path}\")\n",
    "                    send_email(\"New file detected\", f\"New file detected: {file_path}\")\n",
    "\n",
    "                file_hashes[file_path] = file_hash\n",
    "\n",
    "        time.sleep(60)  # Adjust the interval as per your requirement\n",
    "\n",
    "monitor_directory()\n"
   ]
  }
 ],
 "metadata": {
  "kernelspec": {
   "display_name": "Python 3.10.11 64-bit (microsoft store)",
   "language": "python",
   "name": "python3"
  },
  "language_info": {
   "name": "python",
   "version": "3.10.11"
  },
  "orig_nbformat": 4,
  "vscode": {
   "interpreter": {
    "hash": "602bbe8e8fe3127dc2d2bb8f57c49cfbb507be2cc0e090f10eb4c4d0af354b8b"
   }
  }
 },
 "nbformat": 4,
 "nbformat_minor": 2
}
