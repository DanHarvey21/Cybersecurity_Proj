{
 "cells": [
  {
   "cell_type": "code",
   "execution_count": null,
   "metadata": {},
   "outputs": [],
   "source": [
    "import requests\n",
    "from urllib.parse import urlparse\n",
    "\n",
    "def is_phishing(url):\n",
    "    try:\n",
    "        response = requests.get(url)\n",
    "        if response.status_code == 200:\n",
    "            parsed_url = urlparse(url)\n",
    "            domain = parsed_url.netloc\n",
    "            if domain in known_phishing_domains:\n",
    "                return True\n",
    "            return False\n",
    "        return False\n",
    "    except requests.exceptions.RequestException:\n",
    "        return False\n",
    "\n",
    "known_phishing_domains = [\n",
    "    \"phishingdomain.com\",\n",
    "    \"anotherphishingdomain.org\",\n",
    "    # Add more known phishing domains here\n",
    "]\n",
    "\n",
    "# Example usage\n",
    "url_to_check = \"https://example.com\"\n",
    "if is_phishing(url_to_check):\n",
    "    print(\"Warning: The URL may be a phishing attempt.\")\n",
    "else:\n",
    "    print(\"The URL appears to be safe.\")\n",
    "\n"
   ]
  }
 ],
 "metadata": {
  "language_info": {
   "name": "python"
  },
  "orig_nbformat": 4
 },
 "nbformat": 4,
 "nbformat_minor": 2
}
